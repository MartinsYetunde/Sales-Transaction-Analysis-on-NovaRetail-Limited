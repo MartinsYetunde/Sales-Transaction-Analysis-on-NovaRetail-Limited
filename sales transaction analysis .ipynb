{
 "cells": [
  {
   "cell_type": "code",
   "execution_count": null,
   "id": "ad4379e0-df79-4ee8-b90d-01d502d90a66",
   "metadata": {},
   "outputs": [],
   "source": [
    "!pip install plotly\n",
    "!pip install cufflinks\n",
    "!pip install chart_studio\n"
   ]
  },
  {
   "cell_type": "code",
   "execution_count": 4,
   "id": "7ab3f886-53f9-41d6-a380-da814607f541",
   "metadata": {},
   "outputs": [
    {
     "data": {
      "text/html": [
       "        <script type=\"text/javascript\">\n",
       "        window.PlotlyConfig = {MathJaxConfig: 'local'};\n",
       "        if (window.MathJax && window.MathJax.Hub && window.MathJax.Hub.Config) {window.MathJax.Hub.Config({SVG: {font: \"STIX-Web\"}});}\n",
       "        if (typeof require !== 'undefined') {\n",
       "        require.undef(\"plotly\");\n",
       "        requirejs.config({\n",
       "            paths: {\n",
       "                'plotly': ['https://cdn.plot.ly/plotly-2.35.2.min']\n",
       "            }\n",
       "        });\n",
       "        require(['plotly'], function(Plotly) {\n",
       "            window._Plotly = Plotly;\n",
       "        });\n",
       "        }\n",
       "        </script>\n",
       "        "
      ]
     },
     "metadata": {},
     "output_type": "display_data"
    },
    {
     "data": {
      "text/html": [
       "<div>\n",
       "<style scoped>\n",
       "    .dataframe tbody tr th:only-of-type {\n",
       "        vertical-align: middle;\n",
       "    }\n",
       "\n",
       "    .dataframe tbody tr th {\n",
       "        vertical-align: top;\n",
       "    }\n",
       "\n",
       "    .dataframe thead th {\n",
       "        text-align: right;\n",
       "    }\n",
       "</style>\n",
       "<table border=\"1\" class=\"dataframe\">\n",
       "  <thead>\n",
       "    <tr style=\"text-align: right;\">\n",
       "      <th></th>\n",
       "      <th>TransactionID</th>\n",
       "      <th>Date</th>\n",
       "      <th>City</th>\n",
       "      <th>CustomerID</th>\n",
       "      <th>CustomerType</th>\n",
       "      <th>Category</th>\n",
       "      <th>UnitsSold</th>\n",
       "      <th>UnitPrice</th>\n",
       "      <th>Revenue</th>\n",
       "      <th>Discount</th>\n",
       "      <th>SalesRep</th>\n",
       "    </tr>\n",
       "  </thead>\n",
       "  <tbody>\n",
       "    <tr>\n",
       "      <th>0</th>\n",
       "      <td>T001</td>\n",
       "      <td>2024-01-15</td>\n",
       "      <td>Lagos</td>\n",
       "      <td>C001</td>\n",
       "      <td>New</td>\n",
       "      <td>Electronics</td>\n",
       "      <td>2</td>\n",
       "      <td>150000</td>\n",
       "      <td>300000</td>\n",
       "      <td>5000</td>\n",
       "      <td>Chuka Obasi</td>\n",
       "    </tr>\n",
       "    <tr>\n",
       "      <th>1</th>\n",
       "      <td>T002</td>\n",
       "      <td>2024-01-18</td>\n",
       "      <td>Abuja</td>\n",
       "      <td>C002</td>\n",
       "      <td>Returning</td>\n",
       "      <td>Appliances</td>\n",
       "      <td>1</td>\n",
       "      <td>85000</td>\n",
       "      <td>85000</td>\n",
       "      <td>0</td>\n",
       "      <td>Mary Felix</td>\n",
       "    </tr>\n",
       "    <tr>\n",
       "      <th>2</th>\n",
       "      <td>T003</td>\n",
       "      <td>2024-01-20</td>\n",
       "      <td>Port Harcourt</td>\n",
       "      <td>C003</td>\n",
       "      <td>New</td>\n",
       "      <td>Accessories</td>\n",
       "      <td>4</td>\n",
       "      <td>5000</td>\n",
       "      <td>20000</td>\n",
       "      <td>200</td>\n",
       "      <td>Abdul Salim</td>\n",
       "    </tr>\n",
       "    <tr>\n",
       "      <th>3</th>\n",
       "      <td>T004</td>\n",
       "      <td>2024-01-21</td>\n",
       "      <td>Lagos</td>\n",
       "      <td>C004</td>\n",
       "      <td>Returning</td>\n",
       "      <td>Electronics</td>\n",
       "      <td>1</td>\n",
       "      <td>160000</td>\n",
       "      <td>160000</td>\n",
       "      <td>3000</td>\n",
       "      <td>Chuka Obasi</td>\n",
       "    </tr>\n",
       "    <tr>\n",
       "      <th>4</th>\n",
       "      <td>T005</td>\n",
       "      <td>2024-02-01</td>\n",
       "      <td>Kano</td>\n",
       "      <td>C005</td>\n",
       "      <td>New</td>\n",
       "      <td>Appliances</td>\n",
       "      <td>2</td>\n",
       "      <td>90000</td>\n",
       "      <td>180000</td>\n",
       "      <td>4000</td>\n",
       "      <td>Mary Felix</td>\n",
       "    </tr>\n",
       "    <tr>\n",
       "      <th>...</th>\n",
       "      <td>...</td>\n",
       "      <td>...</td>\n",
       "      <td>...</td>\n",
       "      <td>...</td>\n",
       "      <td>...</td>\n",
       "      <td>...</td>\n",
       "      <td>...</td>\n",
       "      <td>...</td>\n",
       "      <td>...</td>\n",
       "      <td>...</td>\n",
       "      <td>...</td>\n",
       "    </tr>\n",
       "    <tr>\n",
       "      <th>105</th>\n",
       "      <td>T106</td>\n",
       "      <td>2024-03-05</td>\n",
       "      <td>Lagos</td>\n",
       "      <td>C046</td>\n",
       "      <td>New</td>\n",
       "      <td>Electronics</td>\n",
       "      <td>2</td>\n",
       "      <td>155000</td>\n",
       "      <td>310000</td>\n",
       "      <td>500</td>\n",
       "      <td>Abdul Salim</td>\n",
       "    </tr>\n",
       "    <tr>\n",
       "      <th>106</th>\n",
       "      <td>T107</td>\n",
       "      <td>2024-10-23</td>\n",
       "      <td>Port Harcourt</td>\n",
       "      <td>C061</td>\n",
       "      <td>Returning</td>\n",
       "      <td>Electronics</td>\n",
       "      <td>2</td>\n",
       "      <td>155000</td>\n",
       "      <td>310000</td>\n",
       "      <td>4000</td>\n",
       "      <td>Mary Felix</td>\n",
       "    </tr>\n",
       "    <tr>\n",
       "      <th>107</th>\n",
       "      <td>T108</td>\n",
       "      <td>2024-09-08</td>\n",
       "      <td>Port Harcourt</td>\n",
       "      <td>C070</td>\n",
       "      <td>New</td>\n",
       "      <td>Accessories</td>\n",
       "      <td>1</td>\n",
       "      <td>5500</td>\n",
       "      <td>5500</td>\n",
       "      <td>500</td>\n",
       "      <td>Mary Felix</td>\n",
       "    </tr>\n",
       "    <tr>\n",
       "      <th>108</th>\n",
       "      <td>T109</td>\n",
       "      <td>2024-02-10</td>\n",
       "      <td>Kano</td>\n",
       "      <td>C135</td>\n",
       "      <td>New</td>\n",
       "      <td>Electronics</td>\n",
       "      <td>2</td>\n",
       "      <td>150000</td>\n",
       "      <td>300000</td>\n",
       "      <td>200</td>\n",
       "      <td>Chuka Obasi</td>\n",
       "    </tr>\n",
       "    <tr>\n",
       "      <th>109</th>\n",
       "      <td>T110</td>\n",
       "      <td>2024-11-08</td>\n",
       "      <td>Lagos</td>\n",
       "      <td>C113</td>\n",
       "      <td>New</td>\n",
       "      <td>Electronics</td>\n",
       "      <td>2</td>\n",
       "      <td>162000</td>\n",
       "      <td>324000</td>\n",
       "      <td>7000</td>\n",
       "      <td>Mary Felix</td>\n",
       "    </tr>\n",
       "  </tbody>\n",
       "</table>\n",
       "<p>110 rows × 11 columns</p>\n",
       "</div>"
      ],
      "text/plain": [
       "    TransactionID        Date           City CustomerID CustomerType  \\\n",
       "0            T001  2024-01-15          Lagos       C001          New   \n",
       "1            T002  2024-01-18          Abuja       C002    Returning   \n",
       "2            T003  2024-01-20  Port Harcourt       C003          New   \n",
       "3            T004  2024-01-21          Lagos       C004    Returning   \n",
       "4            T005  2024-02-01           Kano       C005          New   \n",
       "..            ...         ...            ...        ...          ...   \n",
       "105          T106  2024-03-05          Lagos       C046          New   \n",
       "106          T107  2024-10-23  Port Harcourt       C061    Returning   \n",
       "107          T108  2024-09-08  Port Harcourt       C070          New   \n",
       "108          T109  2024-02-10           Kano       C135          New   \n",
       "109          T110  2024-11-08          Lagos       C113          New   \n",
       "\n",
       "        Category  UnitsSold  UnitPrice  Revenue  Discount     SalesRep  \n",
       "0    Electronics          2     150000   300000      5000  Chuka Obasi  \n",
       "1     Appliances          1      85000    85000         0   Mary Felix  \n",
       "2    Accessories          4       5000    20000       200  Abdul Salim  \n",
       "3    Electronics          1     160000   160000      3000  Chuka Obasi  \n",
       "4     Appliances          2      90000   180000      4000   Mary Felix  \n",
       "..           ...        ...        ...      ...       ...          ...  \n",
       "105  Electronics          2     155000   310000       500  Abdul Salim  \n",
       "106  Electronics          2     155000   310000      4000   Mary Felix  \n",
       "107  Accessories          1       5500     5500       500   Mary Felix  \n",
       "108  Electronics          2     150000   300000       200  Chuka Obasi  \n",
       "109  Electronics          2     162000   324000      7000   Mary Felix  \n",
       "\n",
       "[110 rows x 11 columns]"
      ]
     },
     "execution_count": 4,
     "metadata": {},
     "output_type": "execute_result"
    }
   ],
   "source": [
    "import pandas as pd \n",
    "import warnings\n",
    "warnings.filterwarnings(\"ignore\")\n",
    "import matplotlib.pyplot as plt\n",
    "import seaborn as sns\n",
    "from plotly.offline import init_notebook_mode \n",
    "import cufflinks as cf \n",
    "cf.go_offline()\n",
    "sales = pd.read_csv(\"sales_transactions (1).csv\")\n",
    "sales\n"
   ]
  },
  {
   "cell_type": "code",
   "execution_count": null,
   "id": "0f2632ec-bc48-495f-91b8-15dcca4176d2",
   "metadata": {},
   "outputs": [],
   "source": [
    "#1. What is the total revenue generated in the dataset?\n",
    "sales[\"Revenue\"].sum()\n"
   ]
  },
  {
   "cell_type": "code",
   "execution_count": null,
   "id": "da80724a-587e-4327-8e27-64316c80c0bf",
   "metadata": {},
   "outputs": [],
   "source": [
    "#2. How many total transactions were recorded?\n",
    "sales['TransactionID'].nunique()"
   ]
  },
  {
   "cell_type": "code",
   "execution_count": null,
   "id": "36bf6e42-bbdc-47e8-b13d-e3a2cc3f785c",
   "metadata": {},
   "outputs": [],
   "source": [
    "#3. How many distinct customers made purchases?\n",
    "sales['CustomerID'].nunique()"
   ]
  },
  {
   "cell_type": "code",
   "execution_count": null,
   "id": "1564d457-0a77-4e5c-a613-77488bd36f88",
   "metadata": {},
   "outputs": [],
   "source": [
    "#4. What is the total revenue generated from Lagos alone?\n",
    "sales[sales['City'] =='Lagos']['Revenue'].sum()"
   ]
  },
  {
   "cell_type": "code",
   "execution_count": null,
   "id": "81618424-ba55-49f7-8f76-366811286c5c",
   "metadata": {},
   "outputs": [],
   "source": [
    "#5. How many units of \"Accessories\" were sold in Abuja?\n",
    "sales[(sales['City'] =='Abuja') & (sales['Category'] == 'Accessories')]['UnitsSold'].sum()"
   ]
  },
  {
   "cell_type": "code",
   "execution_count": null,
   "id": "838d8a8e-0592-4dd3-9d3c-081b0408b8da",
   "metadata": {},
   "outputs": [],
   "source": [
    "#6. What is the average discount offered across all transactions?\n",
    "sales['Discount'].mean()"
   ]
  },
  {
   "cell_type": "code",
   "execution_count": null,
   "id": "30384c4d-ca97-457d-952b-3e77c7814be7",
   "metadata": {},
   "outputs": [],
   "source": [
    "#7. What was the revenue for February 2024?\n",
    "sales[\"Date\"] = sales[\"Date\"].astype(\"datetime64[ns]\")"
   ]
  },
  {
   "cell_type": "code",
   "execution_count": null,
   "id": "458c68f9-d61b-40f8-9527-ce00108c62a1",
   "metadata": {},
   "outputs": [],
   "source": [
    "sales[\"Month\"] = sales[\"Date\"].dt.to_period(\"M\")"
   ]
  },
  {
   "cell_type": "code",
   "execution_count": null,
   "id": "be959346-d187-4258-91e4-860bf98849ac",
   "metadata": {},
   "outputs": [],
   "source": [
    "sales[\"Month\"]"
   ]
  },
  {
   "cell_type": "code",
   "execution_count": null,
   "id": "cf6fea73-2b5d-4d05-939a-dc05ece061f6",
   "metadata": {},
   "outputs": [],
   "source": [
    "sales.groupby([\"Month\"])[\"Revenue\"].sum().loc[\"2024-02\"]"
   ]
  },
  {
   "cell_type": "code",
   "execution_count": null,
   "id": "b2bca88a-0325-4bda-a4f9-f5516d26fe93",
   "metadata": {},
   "outputs": [],
   "source": [
    "#8. Which month had the highest sales revenue?\n",
    "sales.groupby([\"Month\"])[\"Revenue\"].sum().nlargest()\n"
   ]
  },
  {
   "cell_type": "code",
   "execution_count": null,
   "id": "0a1856b3-928f-4dae-bf99-f3b71ba6b095",
   "metadata": {},
   "outputs": [],
   "source": [
    "#9. Create a measure to calculate monthly revenue trend\n",
    "import matplotlib.pyplot as plt\n",
    "sale = sales.groupby(sales[\"Date\"].dt.to_period(\"M\"))[\"Revenue\"].sum().reset_index()\n",
    "sale"
   ]
  },
  {
   "cell_type": "code",
   "execution_count": null,
   "id": "77efa22b-56d7-4381-9f1c-6e09245e72ab",
   "metadata": {},
   "outputs": [],
   "source": [
    "#10. What is the revenue split between New and Returning customers?\n"
   ]
  },
  {
   "cell_type": "code",
   "execution_count": null,
   "id": "996df288-54b6-4523-93de-9474f4509bba",
   "metadata": {},
   "outputs": [],
   "source": [
    "#11. What is the average revenue per customer?\n",
    "sales.groupby(['CustomerID'])['Revenue'].mean()"
   ]
  },
  {
   "cell_type": "code",
   "execution_count": null,
   "id": "e498a77d-3e7a-4854-9d86-b31b2005dd38",
   "metadata": {},
   "outputs": [],
   "source": [
    "#12. How many customers bought more than once?\n",
    "repeat_customer = sales['CustomerID'].value_counts()\n",
    "repeat_customer[repeat_customer>1].count()"
   ]
  },
  {
   "cell_type": "code",
   "execution_count": null,
   "id": "2e447ef5-5c59-4aa3-a24e-9e8444d3e105",
   "metadata": {},
   "outputs": [],
   "source": [
    "#13. Which product category generated the most revenue?\n",
    "sales.groupby(['Category'])['Revenue'].sum().sort_values(ascending=False)"
   ]
  },
  {
   "cell_type": "code",
   "execution_count": null,
   "id": "c3585e4f-4a93-4afe-b5a0-68accf70d3aa",
   "metadata": {},
   "outputs": [],
   "source": [
    "#14. What is the average revenue per unit for Electronics?\n",
    "sales = sales[sales['Category'] == 'Electronic']"
   ]
  },
  {
   "cell_type": "code",
   "execution_count": null,
   "id": "3fb72ae5-bd63-4903-995b-26f344fdce86",
   "metadata": {},
   "outputs": [],
   "source": [
    "#15 Which sales rep generated the highest total revenue?\n",
    "sales.groupby(['SalesRep'])['Revenue'].sum().sort_values(ascending=False)"
   ]
  },
  {
   "cell_type": "code",
   "execution_count": null,
   "id": "6075e456-2843-4cd9-bb7d-4cc9a865f189",
   "metadata": {},
   "outputs": [],
   "source": [
    "#16. Calculate total units sold by each sales rep.\n",
    "sales.groupby(['SalesRep'])['UnitsSold'].sum()"
   ]
  },
  {
   "cell_type": "code",
   "execution_count": null,
   "id": "f239d97f-fbdd-4a4d-a05f-db385ec52462",
   "metadata": {},
   "outputs": [],
   "source": [
    "#17. Calculates revenue from Lagos only if the customer is \"New\". (New customers only)\n",
    "sales[(sales[\"City\"] == 'Lagos') & (sales['CustomerType'] == \"New\")]['Revenue'].sum()\n"
   ]
  },
  {
   "cell_type": "code",
   "execution_count": null,
   "id": "7a384142-fad7-4249-a8c3-c469a6996067",
   "metadata": {},
   "outputs": [],
   "source": [
    "#18. Calculate the total revenue excluding transactions from Port Harcourt.\n",
    "sales[sales['City'] != 'Port Harcourt']['Revenue'].sum()"
   ]
  },
  {
   "cell_type": "code",
   "execution_count": null,
   "id": "20581156-df04-4844-96f9-19acb230d20b",
   "metadata": {},
   "outputs": [],
   "source": [
    "#19. Create a measure to calculate average units sold per transaction.\n",
    "sales['UnitsSold'].mean()"
   ]
  },
  {
   "cell_type": "code",
   "execution_count": null,
   "id": "0294bbf7-192a-4aa9-a171-fc782664995b",
   "metadata": {},
   "outputs": [],
   "source": [
    "#20. Calculate the total discount value across all sales.\n",
    "sales[(sales['Category']=='Electronics')&(sales['CustomerType']=='Returning')]['Revenue'].sum()"
   ]
  },
  {
   "cell_type": "code",
   "execution_count": null,
   "id": "8fe77608-94f5-4fbf-bfde-aece682bbf39",
   "metadata": {},
   "outputs": [],
   "source": [
    "sales [\"Dates\"] = sales [\"Date\"].astype(\"datetime64[ns]\")\n"
   ]
  },
  {
   "cell_type": "code",
   "execution_count": null,
   "id": "219e27ce-579e-4164-a48d-24999bf29c38",
   "metadata": {},
   "outputs": [],
   "source": [
    "sales [\"Month\"] = sales [\"Dates\"].dt.month_name()\n"
   ]
  },
  {
   "cell_type": "code",
   "execution_count": null,
   "id": "8f52a5af-e4a6-4ad2-a3e8-c4f5c562305e",
   "metadata": {},
   "outputs": [],
   "source": [
    "plt.figure(figsize=[14,8])\n",
    "sns.lineplot (x=\"Month\", y=\"Revenue\",data=sales)\n",
    "plt.title (\"MONTHLY TREND\" )\n",
    "plt.show\n"
   ]
  },
  {
   "cell_type": "code",
   "execution_count": null,
   "id": "d65e5dfb-a114-4ce3-9156-899c620d0865",
   "metadata": {},
   "outputs": [],
   "source": [
    "plt. figure(figsize=[8,6])\n",
    "sns.barplot(x=\"Category\",y=\"Revenue\",data =sales, color=\"b\")\n",
    "plt.title(\"TOTAL REVENUE BY CATEGORY\")\n",
    "plt. show\n"
   ]
  },
  {
   "cell_type": "code",
   "execution_count": null,
   "id": "be8564a2-f135-45d0-ba7c-9a0350a5fac8",
   "metadata": {},
   "outputs": [],
   "source": [
    "plt.figure(figsize=[8,6])\n",
    "sns.barplot (x=\"City\",y=\"Revenue\",data =sales, color=\"b\" )\n",
    "plt.title(\"TOTAL REVENUE BY CITY\")\n",
    "plt. show\n"
   ]
  },
  {
   "cell_type": "code",
   "execution_count": null,
   "id": "b75d8b18-9c92-4097-8fd9-50ca7c198db0",
   "metadata": {},
   "outputs": [],
   "source": [
    "sales.groupby(['SalesRep'])['UnitsSold'].sum().reset_index()"
   ]
  },
  {
   "cell_type": "code",
   "execution_count": null,
   "id": "b4ba547a-dd29-414b-9625-0f8e4f3bdfe6",
   "metadata": {},
   "outputs": [],
   "source": [
    "sales.iplot(kind=\"pie\", labels=\"SalesRep\", values= \"UnitsSold\", colors = [\"red\", \"green\", \"blue\"],\n",
    "title=\"PIE CHART FOR TOTAL UNITS SOLD BY SALES REP\")"
   ]
  },
  {
   "cell_type": "code",
   "execution_count": null,
   "id": "9e773d5a-4552-4933-a62e-9fac811491ef",
   "metadata": {},
   "outputs": [],
   "source": []
  },
  {
   "cell_type": "code",
   "execution_count": null,
   "id": "707b486b-978c-4958-b36f-6e531a525561",
   "metadata": {},
   "outputs": [],
   "source": [
    "plt.figure(figsize=[30,15])\n",
    "plt.subplot (2,2,1)\n",
    "sns.barplot (x=\"Category\",y=\"Revenue\", data =sales, color=\"b\")\n",
    "plt.title(\"TOTAL REVENUE BY CATEGORY\")\n",
    "\n",
    "plt.subplot(2,2,2)\n",
    "sns.lineplot (x=\"Month\" , y=\"Revenue\",data =sales)\n",
    "plt. title(\"MONTHLY TREND\")\n",
    "\n",
    "plt. subplot (2,2,3)\n",
    "sns.barplot(x=\"City\" ,y=\"Revenue\", data =sales, color=\"b\")\n",
    "plt.title(\"TOTAL REVENUE BY CITY\")\n"
   ]
  }
 ],
 "metadata": {
  "kernelspec": {
   "display_name": "Python 3 (ipykernel)",
   "language": "python",
   "name": "python3"
  },
  "language_info": {
   "codemirror_mode": {
    "name": "ipython",
    "version": 3
   },
   "file_extension": ".py",
   "mimetype": "text/x-python",
   "name": "python",
   "nbconvert_exporter": "python",
   "pygments_lexer": "ipython3",
   "version": "3.12.7"
  }
 },
 "nbformat": 4,
 "nbformat_minor": 5
}
